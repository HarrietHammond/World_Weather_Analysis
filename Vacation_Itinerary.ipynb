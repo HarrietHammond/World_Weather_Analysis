{
 "cells": [
  {
   "cell_type": "markdown",
   "metadata": {},
   "source": [
    "# Deliverable 3. Create a Travel Itinerary Map.\n",
    "----\n",
    "1. Import the vacation CSV file. \n",
    "2. From the map above with pick 4 cities that are in close proximity (on the same continent) that the customer would travel to and create a directions layer map.\n",
    "3. For the \"travel_mode\" use either \"DRIVING\", \"BICYCLING\", or \"WALKING\".\n",
    "4. Take a screenshot of the route and save it. \n",
    "5. Then create a marker layer for the four cities. Each city will should have a pop-up marker that contains\n",
    "    - The hotel name\n",
    "    - The city\n",
    "    - The country\n",
    "    - The current weather description and the maximum temperature\n",
    "---"
   ]
  },
  {
   "cell_type": "markdown",
   "metadata": {},
   "source": [
    "## Make sure the initial dependencies and the Google API key are imported."
   ]
  },
  {
   "cell_type": "code",
   "execution_count": 1,
   "metadata": {},
   "outputs": [],
   "source": [
    "# Dependencies and Setup\n",
    "import pandas as pd\n",
    "import requests\n",
    "import gmaps\n",
    "\n",
    "# Import API key\n",
    "from config import g_key"
   ]
  },
  {
   "cell_type": "code",
   "execution_count": 2,
   "metadata": {},
   "outputs": [],
   "source": [
    "# Configure gmaps\n",
    "gmaps.configure(api_key=g_key)"
   ]
  },
  {
   "cell_type": "markdown",
   "metadata": {},
   "source": [
    "## From your `Vacation_Search` folder from Deliverable 2, import the `WeatherPy_vacation.csv` file as a DataFrame named `vacation_df`"
   ]
  },
  {
   "cell_type": "code",
   "execution_count": 3,
   "metadata": {},
   "outputs": [
    {
     "data": {
      "text/html": [
       "<div>\n",
       "<style scoped>\n",
       "    .dataframe tbody tr th:only-of-type {\n",
       "        vertical-align: middle;\n",
       "    }\n",
       "\n",
       "    .dataframe tbody tr th {\n",
       "        vertical-align: top;\n",
       "    }\n",
       "\n",
       "    .dataframe thead th {\n",
       "        text-align: right;\n",
       "    }\n",
       "</style>\n",
       "<table border=\"1\" class=\"dataframe\">\n",
       "  <thead>\n",
       "    <tr style=\"text-align: right;\">\n",
       "      <th></th>\n",
       "      <th>City</th>\n",
       "      <th>Country</th>\n",
       "      <th>Max Temp</th>\n",
       "      <th>Current Description</th>\n",
       "      <th>Lat</th>\n",
       "      <th>Lng</th>\n",
       "      <th>Hotel Name</th>\n",
       "    </tr>\n",
       "  </thead>\n",
       "  <tbody>\n",
       "    <tr>\n",
       "      <th>0</th>\n",
       "      <td>Tateyama</td>\n",
       "      <td>JP</td>\n",
       "      <td>67.10</td>\n",
       "      <td>overcast clouds</td>\n",
       "      <td>34.9833</td>\n",
       "      <td>139.8667</td>\n",
       "      <td>Tateyama Seaside Hotel</td>\n",
       "    </tr>\n",
       "    <tr>\n",
       "      <th>1</th>\n",
       "      <td>Mataura</td>\n",
       "      <td>NZ</td>\n",
       "      <td>62.47</td>\n",
       "      <td>scattered clouds</td>\n",
       "      <td>-46.1927</td>\n",
       "      <td>168.8643</td>\n",
       "      <td>Ellie's Villa</td>\n",
       "    </tr>\n",
       "    <tr>\n",
       "      <th>2</th>\n",
       "      <td>Puerto Ayora</td>\n",
       "      <td>EC</td>\n",
       "      <td>66.54</td>\n",
       "      <td>overcast clouds</td>\n",
       "      <td>-0.7393</td>\n",
       "      <td>-90.3518</td>\n",
       "      <td>Finch Bay Galapagos Hotel</td>\n",
       "    </tr>\n",
       "    <tr>\n",
       "      <th>3</th>\n",
       "      <td>Castro</td>\n",
       "      <td>BR</td>\n",
       "      <td>50.92</td>\n",
       "      <td>broken clouds</td>\n",
       "      <td>-24.7911</td>\n",
       "      <td>-50.0119</td>\n",
       "      <td>CHACARA BAILLY</td>\n",
       "    </tr>\n",
       "    <tr>\n",
       "      <th>4</th>\n",
       "      <td>Burns Lake</td>\n",
       "      <td>CA</td>\n",
       "      <td>69.22</td>\n",
       "      <td>clear sky</td>\n",
       "      <td>54.2331</td>\n",
       "      <td>-125.7533</td>\n",
       "      <td>Burns Lake Bed and Breakfast</td>\n",
       "    </tr>\n",
       "    <tr>\n",
       "      <th>5</th>\n",
       "      <td>East London</td>\n",
       "      <td>ZA</td>\n",
       "      <td>62.31</td>\n",
       "      <td>overcast clouds</td>\n",
       "      <td>-33.0153</td>\n",
       "      <td>27.9116</td>\n",
       "      <td>Tu Casa</td>\n",
       "    </tr>\n",
       "    <tr>\n",
       "      <th>6</th>\n",
       "      <td>Hobart</td>\n",
       "      <td>AU</td>\n",
       "      <td>56.05</td>\n",
       "      <td>scattered clouds</td>\n",
       "      <td>-42.8794</td>\n",
       "      <td>147.3294</td>\n",
       "      <td>St Ives Hobart Accommodation Tasmania</td>\n",
       "    </tr>\n",
       "    <tr>\n",
       "      <th>7</th>\n",
       "      <td>Busselton</td>\n",
       "      <td>AU</td>\n",
       "      <td>56.98</td>\n",
       "      <td>few clouds</td>\n",
       "      <td>-33.6500</td>\n",
       "      <td>115.3333</td>\n",
       "      <td>Observatory Guest House</td>\n",
       "    </tr>\n",
       "    <tr>\n",
       "      <th>8</th>\n",
       "      <td>Nantucket</td>\n",
       "      <td>US</td>\n",
       "      <td>62.71</td>\n",
       "      <td>clear sky</td>\n",
       "      <td>41.2835</td>\n",
       "      <td>-70.0995</td>\n",
       "      <td>Jared Coffin House</td>\n",
       "    </tr>\n",
       "    <tr>\n",
       "      <th>9</th>\n",
       "      <td>Bluff</td>\n",
       "      <td>NZ</td>\n",
       "      <td>62.80</td>\n",
       "      <td>scattered clouds</td>\n",
       "      <td>-46.6000</td>\n",
       "      <td>168.3333</td>\n",
       "      <td>Bluff Homestead - Guesthouse &amp; Campervan Park</td>\n",
       "    </tr>\n",
       "  </tbody>\n",
       "</table>\n",
       "</div>"
      ],
      "text/plain": [
       "           City Country  Max Temp Current Description      Lat       Lng  \\\n",
       "0      Tateyama      JP     67.10     overcast clouds  34.9833  139.8667   \n",
       "1       Mataura      NZ     62.47    scattered clouds -46.1927  168.8643   \n",
       "2  Puerto Ayora      EC     66.54     overcast clouds  -0.7393  -90.3518   \n",
       "3        Castro      BR     50.92       broken clouds -24.7911  -50.0119   \n",
       "4    Burns Lake      CA     69.22           clear sky  54.2331 -125.7533   \n",
       "5   East London      ZA     62.31     overcast clouds -33.0153   27.9116   \n",
       "6        Hobart      AU     56.05    scattered clouds -42.8794  147.3294   \n",
       "7     Busselton      AU     56.98          few clouds -33.6500  115.3333   \n",
       "8     Nantucket      US     62.71           clear sky  41.2835  -70.0995   \n",
       "9         Bluff      NZ     62.80    scattered clouds -46.6000  168.3333   \n",
       "\n",
       "                                      Hotel Name  \n",
       "0                         Tateyama Seaside Hotel  \n",
       "1                                  Ellie's Villa  \n",
       "2                      Finch Bay Galapagos Hotel  \n",
       "3                                 CHACARA BAILLY  \n",
       "4                   Burns Lake Bed and Breakfast  \n",
       "5                                        Tu Casa  \n",
       "6          St Ives Hobart Accommodation Tasmania  \n",
       "7                        Observatory Guest House  \n",
       "8                             Jared Coffin House  \n",
       "9  Bluff Homestead - Guesthouse & Campervan Park  "
      ]
     },
     "execution_count": 3,
     "metadata": {},
     "output_type": "execute_result"
    }
   ],
   "source": [
    "# Read the WeatherPy_vacation.csv into a DataFrame\n",
    "file_path = \"../Vacation_Search/WeatherPy_vacation.csv\"\n",
    "vacation_df = pd.read_csv(file_path)\n",
    "# Display sample data\n",
    "vacation_df.head(10)"
   ]
  },
  {
   "cell_type": "markdown",
   "metadata": {},
   "source": [
    "**Note:** If the resulting DataFrame is empty, uncomment the following code to load sample data into the `clean_hotel_df`."
   ]
  },
  {
   "cell_type": "code",
   "execution_count": 4,
   "metadata": {},
   "outputs": [],
   "source": [
    "# In case of an empty DataFrame, load the sample data provided\n",
    "# clean_hotel_df = pd.read_csv(\"WeatherPy_vacation-backup.csv\")\n",
    "# clean_hotel_df.head(10)"
   ]
  },
  {
   "cell_type": "markdown",
   "metadata": {
    "tags": []
   },
   "source": [
    "## In this step, you will set-up the pop-up markers. Review the code to create a marker layer map of the vacation search results. This code is the same as in Deliverable 2."
   ]
  },
  {
   "cell_type": "code",
   "execution_count": 5,
   "metadata": {},
   "outputs": [],
   "source": [
    "# Review the formatting template\n",
    "info_box_template = \"\"\"\n",
    "<dl>\n",
    "<dt>Hotel Name</dt><dd>{Hotel Name}</dd>\n",
    "<dt>City</dt><dd>{City}</dd>\n",
    "<dt>Country</dt><dd>{Country}</dd>\n",
    "<dt>Current Weather</dt><dd>{Current Description} and {Max Temp} °F</dd>\n",
    "</dl>\n",
    "\"\"\"\n",
    "\n",
    "# Get the data from each row and add it to the formatting template and store the data in a list\n",
    "hotel_info = [info_box_template.format(**row) for index, row in vacation_df.iterrows()]\n",
    "\n",
    "# Get the latitude and longitude from each row and store in a new DataFrame.\n",
    "locations = vacation_df[[\"Lat\", \"Lng\"]]"
   ]
  },
  {
   "cell_type": "code",
   "execution_count": 6,
   "metadata": {},
   "outputs": [
    {
     "ename": "AttributeError",
     "evalue": "module 'collections' has no attribute 'Iterable'",
     "output_type": "error",
     "traceback": [
      "\u001b[1;31m---------------------------------------------------------------------------\u001b[0m",
      "\u001b[1;31mAttributeError\u001b[0m                            Traceback (most recent call last)",
      "Cell \u001b[1;32mIn [6], line 2\u001b[0m\n\u001b[0;32m      1\u001b[0m \u001b[39m# Add a marker layer for each city to the map.\u001b[39;00m\n\u001b[1;32m----> 2\u001b[0m marker_layer \u001b[39m=\u001b[39m gmaps\u001b[39m.\u001b[39;49mmarker_layer(locations, info_box_content\u001b[39m=\u001b[39;49mhotel_info)\n\u001b[0;32m      3\u001b[0m fig \u001b[39m=\u001b[39m gmaps\u001b[39m.\u001b[39mfigure()\n\u001b[0;32m      4\u001b[0m fig\u001b[39m.\u001b[39madd_layer(marker_layer)\n",
      "File \u001b[1;32mc:\\Users\\16187\\AppData\\Local\\Programs\\Python\\Python310\\lib\\site-packages\\gmaps\\marker.py:553\u001b[0m, in \u001b[0;36mmarker_layer\u001b[1;34m(locations, hover_text, label, info_box_content, display_info_box)\u001b[0m\n\u001b[0;32m    485\u001b[0m \u001b[39m@doc_subst\u001b[39m(_doc_snippets)\n\u001b[0;32m    486\u001b[0m \u001b[39mdef\u001b[39;00m \u001b[39mmarker_layer\u001b[39m(\n\u001b[0;32m    487\u001b[0m         locations, hover_text\u001b[39m=\u001b[39m\u001b[39m'\u001b[39m\u001b[39m'\u001b[39m, label\u001b[39m=\u001b[39m\u001b[39m'\u001b[39m\u001b[39m'\u001b[39m,\n\u001b[0;32m    488\u001b[0m         info_box_content\u001b[39m=\u001b[39m\u001b[39mNone\u001b[39;00m, display_info_box\u001b[39m=\u001b[39m\u001b[39mNone\u001b[39;00m):\n\u001b[0;32m    489\u001b[0m     \u001b[39m\"\"\"\u001b[39;00m\n\u001b[0;32m    490\u001b[0m \u001b[39m    Marker layer\u001b[39;00m\n\u001b[0;32m    491\u001b[0m \n\u001b[1;32m   (...)\u001b[0m\n\u001b[0;32m    551\u001b[0m \u001b[39m        A :class:`gmaps.Markers` instance.\u001b[39;00m\n\u001b[0;32m    552\u001b[0m \u001b[39m    \"\"\"\u001b[39;00m\n\u001b[1;32m--> 553\u001b[0m     marker_options \u001b[39m=\u001b[39m _marker_layer_options(\n\u001b[0;32m    554\u001b[0m         locations, hover_text, label, info_box_content, display_info_box)\n\u001b[0;32m    555\u001b[0m     markers \u001b[39m=\u001b[39m [Marker(\u001b[39m*\u001b[39m\u001b[39m*\u001b[39moption) \u001b[39mfor\u001b[39;00m option \u001b[39min\u001b[39;00m marker_options]\n\u001b[0;32m    556\u001b[0m     \u001b[39mreturn\u001b[39;00m Markers(markers\u001b[39m=\u001b[39mmarkers)\n",
      "File \u001b[1;32mc:\\Users\\16187\\AppData\\Local\\Programs\\Python\\Python310\\lib\\site-packages\\gmaps\\marker.py:311\u001b[0m, in \u001b[0;36m_marker_layer_options\u001b[1;34m(locations, hover_text, label, info_box_content, display_info_box)\u001b[0m\n\u001b[0;32m    309\u001b[0m \u001b[39mif\u001b[39;00m is_atomic(label):\n\u001b[0;32m    310\u001b[0m     label \u001b[39m=\u001b[39m [label] \u001b[39m*\u001b[39m number_markers\n\u001b[1;32m--> 311\u001b[0m \u001b[39mif\u001b[39;00m is_atomic(info_box_content):\n\u001b[0;32m    312\u001b[0m     info_box_content \u001b[39m=\u001b[39m [info_box_content] \u001b[39m*\u001b[39m number_markers\n\u001b[0;32m    314\u001b[0m marker_options \u001b[39m=\u001b[39m {\n\u001b[0;32m    315\u001b[0m     \u001b[39m'\u001b[39m\u001b[39mlocation\u001b[39m\u001b[39m'\u001b[39m: locations_to_list(locations),\n\u001b[0;32m    316\u001b[0m     \u001b[39m'\u001b[39m\u001b[39mhover_text\u001b[39m\u001b[39m'\u001b[39m: hover_text,\n\u001b[0;32m    317\u001b[0m     \u001b[39m'\u001b[39m\u001b[39mlabel\u001b[39m\u001b[39m'\u001b[39m: label\n\u001b[0;32m    318\u001b[0m }\n",
      "File \u001b[1;32mc:\\Users\\16187\\AppData\\Local\\Programs\\Python\\Python310\\lib\\site-packages\\gmaps\\options.py:40\u001b[0m, in \u001b[0;36mis_atomic\u001b[1;34m(elem)\u001b[0m\n\u001b[0;32m     34\u001b[0m \u001b[39mdef\u001b[39;00m \u001b[39mis_atomic\u001b[39m(elem):\n\u001b[0;32m     35\u001b[0m     \u001b[39m\"\"\"\u001b[39;00m\n\u001b[0;32m     36\u001b[0m \u001b[39m    True if an element is a single atom and false if it's a collection\u001b[39;00m\n\u001b[0;32m     37\u001b[0m \u001b[39m    \"\"\"\u001b[39;00m\n\u001b[0;32m     38\u001b[0m     \u001b[39mreturn\u001b[39;00m (\n\u001b[0;32m     39\u001b[0m         \u001b[39misinstance\u001b[39m(elem, string_types) \u001b[39mor\u001b[39;00m\n\u001b[1;32m---> 40\u001b[0m         \u001b[39mnot\u001b[39;00m \u001b[39misinstance\u001b[39m(elem, collections\u001b[39m.\u001b[39;49mIterable)\n\u001b[0;32m     41\u001b[0m     )\n",
      "\u001b[1;31mAttributeError\u001b[0m: module 'collections' has no attribute 'Iterable'"
     ]
    }
   ],
   "source": [
    "# Add a marker layer for each city to the map.\n",
    "marker_layer = gmaps.marker_layer(locations, info_box_content=hotel_info)\n",
    "fig = gmaps.figure()\n",
    "fig.add_layer(marker_layer)\n",
    "\n",
    "# Display the figure\n",
    "fig"
   ]
  },
  {
   "cell_type": "markdown",
   "metadata": {},
   "source": [
    "## From the vacation search map, *choose four cities* that a customer might want to visit. They should be close together and in the same country."
   ]
  },
  {
   "cell_type": "code",
   "execution_count": 6,
   "metadata": {},
   "outputs": [],
   "source": [
    "# Create DataFrames for each city by filtering the 'vacation_df' using the loc method. \n",
    "# The starting and ending city should be the same city.\n",
    "\n",
    "vacation_start = vacation_df.loc[vacation_df[\"City\"] == \"Hyeres\"]\n",
    "vacation_end = vacation_df.loc[vacation_df[\"City\"] == \"Hyeres\"]\n",
    "vacation_stop1 = vacation_df.loc[vacation_df[\"City\"] == \"Dieppe\"]\n",
    "vacation_stop2 = vacation_df.loc[vacation_df[\"City\"] == \"Challans\"]\n",
    "vacation_stop3 = vacation_df.loc[vacation_df[\"City\"] == \"Saint-Francois\"]"
   ]
  },
  {
   "cell_type": "markdown",
   "metadata": {},
   "source": [
    "## Use the `to_numpy()` function and list indexing to write code to retrieve the latitude-longitude pairs as tuples from each city DataFrame."
   ]
  },
  {
   "cell_type": "code",
   "execution_count": 3,
   "metadata": {},
   "outputs": [
    {
     "ename": "NameError",
     "evalue": "name 'vacation_start' is not defined",
     "output_type": "error",
     "traceback": [
      "\u001b[1;31m---------------------------------------------------------------------------\u001b[0m",
      "\u001b[1;31mNameError\u001b[0m                                 Traceback (most recent call last)",
      "Cell \u001b[1;32mIn [3], line 2\u001b[0m\n\u001b[0;32m      1\u001b[0m \u001b[39m# Get the latitude-longitude pairs as tuples from each city DataFrame using the to_numpy function and list indexing.\u001b[39;00m\n\u001b[1;32m----> 2\u001b[0m start \u001b[39m=\u001b[39m vacation_start[\u001b[39m\"\u001b[39m\u001b[39mLat\u001b[39m\u001b[39m\"\u001b[39m]\u001b[39m.\u001b[39mto_numpy()[\u001b[39m0\u001b[39m], vacation_start[\u001b[39m\"\u001b[39m\u001b[39mLng\u001b[39m\u001b[39m\"\u001b[39m]\u001b[39m.\u001b[39mto_numpy()[\u001b[39m0\u001b[39m]\n\u001b[0;32m      3\u001b[0m end \u001b[39m=\u001b[39m vacation_end[\u001b[39m\"\u001b[39m\u001b[39mLat\u001b[39m\u001b[39m\"\u001b[39m]\u001b[39m.\u001b[39mto_numpy()[\u001b[39m0\u001b[39m], vacation_end[\u001b[39m\"\u001b[39m\u001b[39mLng\u001b[39m\u001b[39m\"\u001b[39m]\u001b[39m.\u001b[39mto_numpy()[\u001b[39m0\u001b[39m]\n\u001b[0;32m      4\u001b[0m stop1 \u001b[39m=\u001b[39m vacation_stop1[\u001b[39m\"\u001b[39m\u001b[39mLat\u001b[39m\u001b[39m\"\u001b[39m]\u001b[39m.\u001b[39mto_numpy()[\u001b[39m0\u001b[39m], vacation_stop1[\u001b[39m\"\u001b[39m\u001b[39mLng\u001b[39m\u001b[39m\"\u001b[39m]\u001b[39m.\u001b[39mto_numpy()[\u001b[39m0\u001b[39m]\n",
      "\u001b[1;31mNameError\u001b[0m: name 'vacation_start' is not defined"
     ]
    }
   ],
   "source": [
    "# Get the latitude-longitude pairs as tuples from each city DataFrame using the to_numpy function and list indexing.\n",
    "start = vacation_start[\"Lat\"].to_numpy()[0], vacation_start[\"Lng\"].to_numpy()[0]\n",
    "end = vacation_end[\"Lat\"].to_numpy()[0], vacation_end[\"Lng\"].to_numpy()[0]\n",
    "stop1 = vacation_stop1[\"Lat\"].to_numpy()[0], vacation_stop1[\"Lng\"].to_numpy()[0]\n",
    "stop2 = vacation_stop2[\"Lat\"].to_numpy()[0], vacation_stop2[\"Lng\"].to_numpy()[0]\n",
    "stop3 = vacation_stop3[\"Lat\"].to_numpy()[0], vacation_stop3[\"Lng\"].to_numpy()[0]"
   ]
  },
  {
   "cell_type": "markdown",
   "metadata": {},
   "source": [
    "## Use the [gmaps documentation](https://jupyter-gmaps.readthedocs.io/en/latest/tutorial.html#directions-layer) to create a directions layer map using the variables from the previous step. Where the starting and ending city are the same city, the `waypoints` are the three other cities, and the `travel_mode` is either `\"DRIVING\"`, `\"BICYCLING\"`, or `\"WALKING\"`."
   ]
  },
  {
   "cell_type": "code",
   "execution_count": 9,
   "metadata": {
    "tags": []
   },
   "outputs": [
    {
     "data": {
      "application/vnd.jupyter.widget-view+json": {
       "model_id": "2f2e706f99f74ecfb8aff22fafb18570",
       "version_major": 2,
       "version_minor": 0
      },
      "text/plain": [
       "Figure(layout=FigureLayout(height='420px'))"
      ]
     },
     "metadata": {},
     "output_type": "display_data"
    }
   ],
   "source": [
    "# Define a new figure object\n",
    "fig = gmaps.figure()\n",
    "\n",
    "# Create a direction layer map using the start and end latitude-longitude pairs, and stop1, stop2, and stop3 as the waypoints.\n",
    "# The travel_mode should be \"DRIVING\", \"BICYCLING\", or \"WALKING\".\n",
    "vacation_itinerary = gmaps.directions_layer(\n",
    "        start, end, waypoints=[stop1, stop2, stop3],\n",
    "        travel_mode='DRIVING')\n",
    "# Add the layer to the map\n",
    "fig.add_layer(vacation_itinerary)\n",
    "\n",
    "# Display the map\n",
    "fig\n"
   ]
  },
  {
   "cell_type": "markdown",
   "metadata": {},
   "source": [
    "## Use the provided `concat()` function code snippet to combine the four separate city DataFrames into one DataFrame."
   ]
  },
  {
   "cell_type": "code",
   "execution_count": 4,
   "metadata": {},
   "outputs": [
    {
     "ename": "NameError",
     "evalue": "name 'pd' is not defined",
     "output_type": "error",
     "traceback": [
      "\u001b[1;31m---------------------------------------------------------------------------\u001b[0m",
      "\u001b[1;31mNameError\u001b[0m                                 Traceback (most recent call last)",
      "Cell \u001b[1;32mIn [4], line 2\u001b[0m\n\u001b[0;32m      1\u001b[0m \u001b[39m#  Combine the four city DataFrames into one DataFrame using the concat() function.\u001b[39;00m\n\u001b[1;32m----> 2\u001b[0m itinerary_df \u001b[39m=\u001b[39m pd\u001b[39m.\u001b[39mconcat(\n\u001b[0;32m      3\u001b[0m     [\n\u001b[0;32m      4\u001b[0m         vacation_start,\n\u001b[0;32m      5\u001b[0m         vacation_stop1,\n\u001b[0;32m      6\u001b[0m         vacation_stop2,\n\u001b[0;32m      7\u001b[0m         vacation_stop3\n\u001b[0;32m      8\u001b[0m     ],\n\u001b[0;32m      9\u001b[0m     ignore_index \u001b[39m=\u001b[39m \u001b[39mTrue\u001b[39;00m\n\u001b[0;32m     10\u001b[0m )\n\u001b[0;32m     12\u001b[0m \u001b[39m# Display sample data\u001b[39;00m\n\u001b[0;32m     13\u001b[0m itinerary_df\n",
      "\u001b[1;31mNameError\u001b[0m: name 'pd' is not defined"
     ]
    }
   ],
   "source": [
    "#  Combine the four city DataFrames into one DataFrame using the concat() function.\n",
    "itinerary_df = pd.concat(\n",
    "    [\n",
    "        vacation_start,\n",
    "        vacation_stop1,\n",
    "        vacation_stop2,\n",
    "        vacation_stop3\n",
    "    ],\n",
    "    ignore_index = True\n",
    ")\n",
    "\n",
    "# Display sample data\n",
    "itinerary_df"
   ]
  },
  {
   "cell_type": "markdown",
   "metadata": {},
   "source": [
    "## Refactor the code from Step 6 to create a new marker layer map of the cities on the travel route."
   ]
  },
  {
   "cell_type": "code",
   "execution_count": 5,
   "metadata": {},
   "outputs": [
    {
     "ename": "NameError",
     "evalue": "name 'itinerary_df' is not defined",
     "output_type": "error",
     "traceback": [
      "\u001b[1;31m---------------------------------------------------------------------------\u001b[0m",
      "\u001b[1;31mNameError\u001b[0m                                 Traceback (most recent call last)",
      "Cell \u001b[1;32mIn [5], line 12\u001b[0m\n\u001b[0;32m      2\u001b[0m info_box_template \u001b[39m=\u001b[39m \u001b[39m\"\"\"\u001b[39m\n\u001b[0;32m      3\u001b[0m \u001b[39m<dl>\u001b[39m\n\u001b[0;32m      4\u001b[0m \u001b[39m<dt>Hotel Name</dt><dd>\u001b[39m\u001b[39m{\u001b[39m\u001b[39mHotel Name}</dd>\u001b[39m\n\u001b[1;32m   (...)\u001b[0m\n\u001b[0;32m      8\u001b[0m \u001b[39m</dl>\u001b[39m\n\u001b[0;32m      9\u001b[0m \u001b[39m\"\"\"\u001b[39m\n\u001b[0;32m     11\u001b[0m \u001b[39m# Get the data from each row and add it to the formatting template and store the data in a list\u001b[39;00m\n\u001b[1;32m---> 12\u001b[0m hotel_info \u001b[39m=\u001b[39m [info_box_template\u001b[39m.\u001b[39mformat(\u001b[39m*\u001b[39m\u001b[39m*\u001b[39mrow) \u001b[39mfor\u001b[39;00m index, row \u001b[39min\u001b[39;00m itinerary_df\u001b[39m.\u001b[39miterrows()]\n\u001b[0;32m     14\u001b[0m \u001b[39m# Get the latitude and longitude from each row and store in a new DataFrame.\u001b[39;00m\n\u001b[0;32m     15\u001b[0m locations \u001b[39m=\u001b[39m itinerary_df[[\u001b[39m\"\u001b[39m\u001b[39mLat\u001b[39m\u001b[39m\"\u001b[39m, \u001b[39m\"\u001b[39m\u001b[39mLng\u001b[39m\u001b[39m\"\u001b[39m]]\n",
      "\u001b[1;31mNameError\u001b[0m: name 'itinerary_df' is not defined"
     ]
    }
   ],
   "source": [
    "# Review the formatting template\n",
    "info_box_template = \"\"\"\n",
    "<dl>\n",
    "<dt>Hotel Name</dt><dd>{Hotel Name}</dd>\n",
    "<dt>City</dt><dd>{City}</dd>\n",
    "<dt>Country</dt><dd>{Country}</dd>\n",
    "<dt>Current Weather</dt><dd>{Current Description} and {Max Temp} °F</dd>\n",
    "</dl>\n",
    "\"\"\"\n",
    "\n",
    "# Get the data from each row and add it to the formatting template and store the data in a list\n",
    "hotel_info = [info_box_template.format(**row) for index, row in itinerary_df.iterrows()]\n",
    "\n",
    "# Get the latitude and longitude from each row and store in a new DataFrame.\n",
    "locations = itinerary_df[[\"Lat\", \"Lng\"]]"
   ]
  },
  {
   "cell_type": "code",
   "execution_count": 6,
   "metadata": {},
   "outputs": [
    {
     "ename": "NameError",
     "evalue": "name 'gmaps' is not defined",
     "output_type": "error",
     "traceback": [
      "\u001b[1;31m---------------------------------------------------------------------------\u001b[0m",
      "\u001b[1;31mNameError\u001b[0m                                 Traceback (most recent call last)",
      "Cell \u001b[1;32mIn [6], line 2\u001b[0m\n\u001b[0;32m      1\u001b[0m \u001b[39m# Add a marker layer for each city to the map.\u001b[39;00m\n\u001b[1;32m----> 2\u001b[0m marker_layer \u001b[39m=\u001b[39m gmaps\u001b[39m.\u001b[39mmarker_layer(locations, info_box_content\u001b[39m=\u001b[39mhotel_info)\n\u001b[0;32m      4\u001b[0m \u001b[39m# Define a new figure object\u001b[39;00m\n\u001b[0;32m      5\u001b[0m fig3 \u001b[39m=\u001b[39m gmaps\u001b[39m.\u001b[39mfigure(center\u001b[39m=\u001b[39m(\u001b[39m20.0\u001b[39m, \u001b[39m21.0\u001b[39m), zoom_level\u001b[39m=\u001b[39m\u001b[39m1.0\u001b[39m) \n",
      "\u001b[1;31mNameError\u001b[0m: name 'gmaps' is not defined"
     ]
    }
   ],
   "source": [
    "# Add a marker layer for each city to the map.\n",
    "marker_layer = gmaps.marker_layer(locations, info_box_content=hotel_info)\n",
    "\n",
    "# Define a new figure object\n",
    "fig3 = gmaps.figure(center=(20.0, 21.0), zoom_level=1.0) \n",
    "\n",
    "# Add the layer to the map\n",
    "fig3.add_layer(marker_layer)\n",
    "\n",
    "# Display the map\n",
    "fig3\n"
   ]
  }
 ],
 "metadata": {
  "kernelspec": {
   "display_name": "Python 3.10.7 64-bit",
   "language": "python",
   "name": "python3"
  },
  "language_info": {
   "codemirror_mode": {
    "name": "ipython",
    "version": 3
   },
   "file_extension": ".py",
   "mimetype": "text/x-python",
   "name": "python",
   "nbconvert_exporter": "python",
   "pygments_lexer": "ipython3",
   "version": "3.10.7"
  },
  "latex_envs": {
   "LaTeX_envs_menu_present": true,
   "autoclose": false,
   "autocomplete": true,
   "bibliofile": "biblio.bib",
   "cite_by": "apalike",
   "current_citInitial": 1,
   "eqLabelWithNumbers": true,
   "eqNumInitial": 1,
   "hotkeys": {
    "equation": "Ctrl-E",
    "itemize": "Ctrl-I"
   },
   "labels_anchors": false,
   "latex_user_defs": false,
   "report_style_numbering": false,
   "user_envs_cfg": false
  },
  "vscode": {
   "interpreter": {
    "hash": "3690dcefda5b57954a75181f4bd15044d4287698840c4acc3b8339c1534297b4"
   }
  }
 },
 "nbformat": 4,
 "nbformat_minor": 4
}
